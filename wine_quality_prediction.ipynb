{
  "nbformat": 4,
  "nbformat_minor": 0,
  "metadata": {
    "colab": {
      "name": "wine_quality_prediction",
      "provenance": []
    },
    "kernelspec": {
      "name": "python3",
      "display_name": "Python 3"
    }
  },
  "cells": [
    {
      "cell_type": "markdown",
      "metadata": {
        "id": "YoOWk3sBh-Hm"
      },
      "source": [
        "# **Predição da qualidade do vinho baseada em suas propriedades físico-químicas**\n",
        "\n",
        "\n"
      ]
    },
    {
      "cell_type": "code",
      "metadata": {
        "id": "VOT93L0jKgh8"
      },
      "source": [
        "import matplotlib.pyplot as plt\n",
        "from scipy import stats\n",
        "import seaborn as sns\n",
        "import pandas as pd\n",
        "import numpy as np\n",
        "from sklearn import metrics"
      ],
      "execution_count": null,
      "outputs": []
    },
    {
      "cell_type": "markdown",
      "metadata": {
        "id": "OTuYHVqjhrK_"
      },
      "source": [
        "## **Lendo e observando os dados**\n",
        "*separar os dados com pontoe vírgula para a leitura em csv ficar correta"
      ]
    },
    {
      "cell_type": "code",
      "metadata": {
        "colab": {
          "base_uri": "https://localhost:8080/",
          "height": 212
        },
        "id": "DJpxK114hZ8L",
        "outputId": "877858b0-c655-40b7-b253-8262212b81a3"
      },
      "source": [
        "data = 'http://archive.ics.uci.edu/ml/machine-learning-databases/wine-quality/winequality-red.csv'\n",
        "\n",
        "red_wine = pd.read_csv(data, sep = ';')\n",
        "\n",
        "print(red_wine.shape)\n",
        "red_wine.head()"
      ],
      "execution_count": null,
      "outputs": [
        {
          "output_type": "stream",
          "text": [
            "(1599, 12)\n"
          ],
          "name": "stdout"
        },
        {
          "output_type": "execute_result",
          "data": {
            "text/html": [
              "<div>\n",
              "<style scoped>\n",
              "    .dataframe tbody tr th:only-of-type {\n",
              "        vertical-align: middle;\n",
              "    }\n",
              "\n",
              "    .dataframe tbody tr th {\n",
              "        vertical-align: top;\n",
              "    }\n",
              "\n",
              "    .dataframe thead th {\n",
              "        text-align: right;\n",
              "    }\n",
              "</style>\n",
              "<table border=\"1\" class=\"dataframe\">\n",
              "  <thead>\n",
              "    <tr style=\"text-align: right;\">\n",
              "      <th></th>\n",
              "      <th>fixed acidity</th>\n",
              "      <th>volatile acidity</th>\n",
              "      <th>citric acid</th>\n",
              "      <th>residual sugar</th>\n",
              "      <th>chlorides</th>\n",
              "      <th>free sulfur dioxide</th>\n",
              "      <th>total sulfur dioxide</th>\n",
              "      <th>density</th>\n",
              "      <th>pH</th>\n",
              "      <th>sulphates</th>\n",
              "      <th>alcohol</th>\n",
              "      <th>quality</th>\n",
              "    </tr>\n",
              "  </thead>\n",
              "  <tbody>\n",
              "    <tr>\n",
              "      <th>0</th>\n",
              "      <td>7.4</td>\n",
              "      <td>0.70</td>\n",
              "      <td>0.00</td>\n",
              "      <td>1.9</td>\n",
              "      <td>0.076</td>\n",
              "      <td>11.0</td>\n",
              "      <td>34.0</td>\n",
              "      <td>0.9978</td>\n",
              "      <td>3.51</td>\n",
              "      <td>0.56</td>\n",
              "      <td>9.4</td>\n",
              "      <td>5</td>\n",
              "    </tr>\n",
              "    <tr>\n",
              "      <th>1</th>\n",
              "      <td>7.8</td>\n",
              "      <td>0.88</td>\n",
              "      <td>0.00</td>\n",
              "      <td>2.6</td>\n",
              "      <td>0.098</td>\n",
              "      <td>25.0</td>\n",
              "      <td>67.0</td>\n",
              "      <td>0.9968</td>\n",
              "      <td>3.20</td>\n",
              "      <td>0.68</td>\n",
              "      <td>9.8</td>\n",
              "      <td>5</td>\n",
              "    </tr>\n",
              "    <tr>\n",
              "      <th>2</th>\n",
              "      <td>7.8</td>\n",
              "      <td>0.76</td>\n",
              "      <td>0.04</td>\n",
              "      <td>2.3</td>\n",
              "      <td>0.092</td>\n",
              "      <td>15.0</td>\n",
              "      <td>54.0</td>\n",
              "      <td>0.9970</td>\n",
              "      <td>3.26</td>\n",
              "      <td>0.65</td>\n",
              "      <td>9.8</td>\n",
              "      <td>5</td>\n",
              "    </tr>\n",
              "    <tr>\n",
              "      <th>3</th>\n",
              "      <td>11.2</td>\n",
              "      <td>0.28</td>\n",
              "      <td>0.56</td>\n",
              "      <td>1.9</td>\n",
              "      <td>0.075</td>\n",
              "      <td>17.0</td>\n",
              "      <td>60.0</td>\n",
              "      <td>0.9980</td>\n",
              "      <td>3.16</td>\n",
              "      <td>0.58</td>\n",
              "      <td>9.8</td>\n",
              "      <td>6</td>\n",
              "    </tr>\n",
              "    <tr>\n",
              "      <th>4</th>\n",
              "      <td>7.4</td>\n",
              "      <td>0.70</td>\n",
              "      <td>0.00</td>\n",
              "      <td>1.9</td>\n",
              "      <td>0.076</td>\n",
              "      <td>11.0</td>\n",
              "      <td>34.0</td>\n",
              "      <td>0.9978</td>\n",
              "      <td>3.51</td>\n",
              "      <td>0.56</td>\n",
              "      <td>9.4</td>\n",
              "      <td>5</td>\n",
              "    </tr>\n",
              "  </tbody>\n",
              "</table>\n",
              "</div>"
            ],
            "text/plain": [
              "   fixed acidity  volatile acidity  citric acid  ...  sulphates  alcohol  quality\n",
              "0            7.4              0.70         0.00  ...       0.56      9.4        5\n",
              "1            7.8              0.88         0.00  ...       0.68      9.8        5\n",
              "2            7.8              0.76         0.04  ...       0.65      9.8        5\n",
              "3           11.2              0.28         0.56  ...       0.58      9.8        6\n",
              "4            7.4              0.70         0.00  ...       0.56      9.4        5\n",
              "\n",
              "[5 rows x 12 columns]"
            ]
          },
          "metadata": {
            "tags": []
          },
          "execution_count": 17
        }
      ]
    },
    {
      "cell_type": "markdown",
      "metadata": {
        "id": "UyxDonwHkUba"
      },
      "source": [
        "# **Procurando valores incompletos na tabela**\n",
        "\n",
        "*Não há nenhum termo faltando"
      ]
    },
    {
      "cell_type": "code",
      "metadata": {
        "colab": {
          "base_uri": "https://localhost:8080/"
        },
        "id": "51YpZ11jlCy4",
        "outputId": "c47d6fc3-22d5-4714-fbd6-cb7e32ac7ca2"
      },
      "source": [
        "red_wine.isnull().any()"
      ],
      "execution_count": null,
      "outputs": [
        {
          "output_type": "execute_result",
          "data": {
            "text/plain": [
              "fixed acidity           False\n",
              "volatile acidity        False\n",
              "citric acid             False\n",
              "residual sugar          False\n",
              "chlorides               False\n",
              "free sulfur dioxide     False\n",
              "total sulfur dioxide    False\n",
              "density                 False\n",
              "pH                      False\n",
              "sulphates               False\n",
              "alcohol                 False\n",
              "quality                 False\n",
              "dtype: bool"
            ]
          },
          "metadata": {
            "tags": []
          },
          "execution_count": 18
        }
      ]
    },
    {
      "cell_type": "markdown",
      "metadata": {
        "id": "tGi60iPNlmh5"
      },
      "source": [
        "# **Procurando por dados fora da curva**\n",
        "* função describe\n",
        "* dispersões\n"
      ]
    },
    {
      "cell_type": "code",
      "metadata": {
        "colab": {
          "base_uri": "https://localhost:8080/",
          "height": 301
        },
        "id": "LetioCgtmU6_",
        "outputId": "acc13c0f-5104-48d5-bbdc-086ff9a120a5"
      },
      "source": [
        "red_wine.describe()"
      ],
      "execution_count": null,
      "outputs": [
        {
          "output_type": "execute_result",
          "data": {
            "text/html": [
              "<div>\n",
              "<style scoped>\n",
              "    .dataframe tbody tr th:only-of-type {\n",
              "        vertical-align: middle;\n",
              "    }\n",
              "\n",
              "    .dataframe tbody tr th {\n",
              "        vertical-align: top;\n",
              "    }\n",
              "\n",
              "    .dataframe thead th {\n",
              "        text-align: right;\n",
              "    }\n",
              "</style>\n",
              "<table border=\"1\" class=\"dataframe\">\n",
              "  <thead>\n",
              "    <tr style=\"text-align: right;\">\n",
              "      <th></th>\n",
              "      <th>fixed acidity</th>\n",
              "      <th>volatile acidity</th>\n",
              "      <th>citric acid</th>\n",
              "      <th>residual sugar</th>\n",
              "      <th>chlorides</th>\n",
              "      <th>free sulfur dioxide</th>\n",
              "      <th>total sulfur dioxide</th>\n",
              "      <th>density</th>\n",
              "      <th>pH</th>\n",
              "      <th>sulphates</th>\n",
              "      <th>alcohol</th>\n",
              "      <th>quality</th>\n",
              "    </tr>\n",
              "  </thead>\n",
              "  <tbody>\n",
              "    <tr>\n",
              "      <th>count</th>\n",
              "      <td>1599.000000</td>\n",
              "      <td>1599.000000</td>\n",
              "      <td>1599.000000</td>\n",
              "      <td>1599.000000</td>\n",
              "      <td>1599.000000</td>\n",
              "      <td>1599.000000</td>\n",
              "      <td>1599.000000</td>\n",
              "      <td>1599.000000</td>\n",
              "      <td>1599.000000</td>\n",
              "      <td>1599.000000</td>\n",
              "      <td>1599.000000</td>\n",
              "      <td>1599.000000</td>\n",
              "    </tr>\n",
              "    <tr>\n",
              "      <th>mean</th>\n",
              "      <td>8.319637</td>\n",
              "      <td>0.527821</td>\n",
              "      <td>0.270976</td>\n",
              "      <td>2.538806</td>\n",
              "      <td>0.087467</td>\n",
              "      <td>15.874922</td>\n",
              "      <td>46.467792</td>\n",
              "      <td>0.996747</td>\n",
              "      <td>3.311113</td>\n",
              "      <td>0.658149</td>\n",
              "      <td>10.422983</td>\n",
              "      <td>5.636023</td>\n",
              "    </tr>\n",
              "    <tr>\n",
              "      <th>std</th>\n",
              "      <td>1.741096</td>\n",
              "      <td>0.179060</td>\n",
              "      <td>0.194801</td>\n",
              "      <td>1.409928</td>\n",
              "      <td>0.047065</td>\n",
              "      <td>10.460157</td>\n",
              "      <td>32.895324</td>\n",
              "      <td>0.001887</td>\n",
              "      <td>0.154386</td>\n",
              "      <td>0.169507</td>\n",
              "      <td>1.065668</td>\n",
              "      <td>0.807569</td>\n",
              "    </tr>\n",
              "    <tr>\n",
              "      <th>min</th>\n",
              "      <td>4.600000</td>\n",
              "      <td>0.120000</td>\n",
              "      <td>0.000000</td>\n",
              "      <td>0.900000</td>\n",
              "      <td>0.012000</td>\n",
              "      <td>1.000000</td>\n",
              "      <td>6.000000</td>\n",
              "      <td>0.990070</td>\n",
              "      <td>2.740000</td>\n",
              "      <td>0.330000</td>\n",
              "      <td>8.400000</td>\n",
              "      <td>3.000000</td>\n",
              "    </tr>\n",
              "    <tr>\n",
              "      <th>25%</th>\n",
              "      <td>7.100000</td>\n",
              "      <td>0.390000</td>\n",
              "      <td>0.090000</td>\n",
              "      <td>1.900000</td>\n",
              "      <td>0.070000</td>\n",
              "      <td>7.000000</td>\n",
              "      <td>22.000000</td>\n",
              "      <td>0.995600</td>\n",
              "      <td>3.210000</td>\n",
              "      <td>0.550000</td>\n",
              "      <td>9.500000</td>\n",
              "      <td>5.000000</td>\n",
              "    </tr>\n",
              "    <tr>\n",
              "      <th>50%</th>\n",
              "      <td>7.900000</td>\n",
              "      <td>0.520000</td>\n",
              "      <td>0.260000</td>\n",
              "      <td>2.200000</td>\n",
              "      <td>0.079000</td>\n",
              "      <td>14.000000</td>\n",
              "      <td>38.000000</td>\n",
              "      <td>0.996750</td>\n",
              "      <td>3.310000</td>\n",
              "      <td>0.620000</td>\n",
              "      <td>10.200000</td>\n",
              "      <td>6.000000</td>\n",
              "    </tr>\n",
              "    <tr>\n",
              "      <th>75%</th>\n",
              "      <td>9.200000</td>\n",
              "      <td>0.640000</td>\n",
              "      <td>0.420000</td>\n",
              "      <td>2.600000</td>\n",
              "      <td>0.090000</td>\n",
              "      <td>21.000000</td>\n",
              "      <td>62.000000</td>\n",
              "      <td>0.997835</td>\n",
              "      <td>3.400000</td>\n",
              "      <td>0.730000</td>\n",
              "      <td>11.100000</td>\n",
              "      <td>6.000000</td>\n",
              "    </tr>\n",
              "    <tr>\n",
              "      <th>max</th>\n",
              "      <td>15.900000</td>\n",
              "      <td>1.580000</td>\n",
              "      <td>1.000000</td>\n",
              "      <td>15.500000</td>\n",
              "      <td>0.611000</td>\n",
              "      <td>72.000000</td>\n",
              "      <td>289.000000</td>\n",
              "      <td>1.003690</td>\n",
              "      <td>4.010000</td>\n",
              "      <td>2.000000</td>\n",
              "      <td>14.900000</td>\n",
              "      <td>8.000000</td>\n",
              "    </tr>\n",
              "  </tbody>\n",
              "</table>\n",
              "</div>"
            ],
            "text/plain": [
              "       fixed acidity  volatile acidity  ...      alcohol      quality\n",
              "count    1599.000000       1599.000000  ...  1599.000000  1599.000000\n",
              "mean        8.319637          0.527821  ...    10.422983     5.636023\n",
              "std         1.741096          0.179060  ...     1.065668     0.807569\n",
              "min         4.600000          0.120000  ...     8.400000     3.000000\n",
              "25%         7.100000          0.390000  ...     9.500000     5.000000\n",
              "50%         7.900000          0.520000  ...    10.200000     6.000000\n",
              "75%         9.200000          0.640000  ...    11.100000     6.000000\n",
              "max        15.900000          1.580000  ...    14.900000     8.000000\n",
              "\n",
              "[8 rows x 12 columns]"
            ]
          },
          "metadata": {
            "tags": []
          },
          "execution_count": 19
        }
      ]
    },
    {
      "cell_type": "markdown",
      "metadata": {
        "id": "jBxHt8BsOAsF"
      },
      "source": [
        "### **Retirando outliers**\n",
        "* Z-score\n"
      ]
    },
    {
      "cell_type": "code",
      "metadata": {
        "colab": {
          "base_uri": "https://localhost:8080/"
        },
        "id": "1c79OyNUOMXf",
        "outputId": "85056aa9-3ac6-433b-c7b2-3b05233c2e9f"
      },
      "source": [
        "z = np.abs(stats.zscore(red_wine))\n",
        "red_wine = red_wine[(z < 3).all(axis=1) ]\n",
        "red_wine.shape"
      ],
      "execution_count": null,
      "outputs": [
        {
          "output_type": "execute_result",
          "data": {
            "text/plain": [
              "(1451, 12)"
            ]
          },
          "metadata": {
            "tags": []
          },
          "execution_count": 20
        }
      ]
    },
    {
      "cell_type": "markdown",
      "metadata": {
        "id": "1MStlPJTRVfH"
      },
      "source": [
        "# **Buscando por correlações**\n",
        "*Heatmap\n"
      ]
    },
    {
      "cell_type": "code",
      "metadata": {
        "colab": {
          "base_uri": "https://localhost:8080/",
          "height": 696
        },
        "id": "MTQ8Jg-mRUuH",
        "outputId": "b129ec98-91fa-4f06-cb4c-c81ae6de819b"
      },
      "source": [
        "plt.subplots(figsize = (15, 10))\n",
        "sns.heatmap(red_wine.corr(), annot = True, cmap = 'coolwarm')"
      ],
      "execution_count": null,
      "outputs": [
        {
          "output_type": "execute_result",
          "data": {
            "text/plain": [
              "<matplotlib.axes._subplots.AxesSubplot at 0x7f04834de630>"
            ]
          },
          "metadata": {
            "tags": []
          },
          "execution_count": 21
        },
        {
          "output_type": "display_data",
          "data": {
            "image/png": "[encoded data removed]",
            "text/plain": [
              "<Figure size 1080x720 with 2 Axes>"
            ]
          },
          "metadata": {
            "tags": [],
            "needs_background": "light"
          }
        }
      ]
    },
    {
      "cell_type": "markdown",
      "metadata": {
        "id": "EzdO4e41RPdr"
      },
      "source": [
        "# **Pré processmaneto de dados**\n",
        "* Definindo as características de treinamento\n",
        "* Padronizando\n",
        "\n",
        "array = matriz\n",
        "iloc = seleciona linhas e colunas"
      ]
    },
    {
      "cell_type": "code",
      "metadata": {
        "id": "gg-7mqYEW0JZ"
      },
      "source": [
        "X = np.asarray(red_wine.iloc[:, :-1 ])\n",
        "\n",
        "Y = np.asarray(red_wine['quality']) "
      ],
      "execution_count": null,
      "outputs": []
    },
    {
      "cell_type": "code",
      "metadata": {
        "id": "5R29i-NQgFj0"
      },
      "source": [
        "from sklearn import preprocessing\n",
        "\n",
        "X = preprocessing.StandardScaler().fit(X).transform(X)"
      ],
      "execution_count": null,
      "outputs": []
    },
    {
      "cell_type": "code",
      "metadata": {
        "colab": {
          "base_uri": "https://localhost:8080/"
        },
        "id": "8wf0dOWvlC9Q",
        "outputId": "7e497292-3a0c-457d-e431-3af5c1be8eca"
      },
      "source": [
        "from sklearn.model_selection import train_test_split\n",
        "\n",
        "X_train, X_test, Y_train, Y_test = train_test_split(X,Y, test_size = 0.2, random_state = 0)\n",
        "print(\"Train set:\", X_train.shape, Y_train.shape)\n",
        "print(\"Test set:\", X_test.shape, Y_test.shape)"
      ],
      "execution_count": null,
      "outputs": [
        {
          "output_type": "stream",
          "text": [
            "Train set: (1160, 11) (1160,)\n",
            "Test set: (291, 11) (291,)\n"
          ],
          "name": "stdout"
        }
      ]
    },
    {
      "cell_type": "markdown",
      "metadata": {
        "id": "q9IBbdOzKbK6"
      },
      "source": [
        "### **Selecionando o modelo ideal**\n",
        "*K-nearest neighbors\n",
        "\n",
        "*Decision tress\n",
        "\n",
        "*Random forest\n",
        "\n",
        "*logistisc regression"
      ]
    },
    {
      "cell_type": "markdown",
      "metadata": {
        "id": "Lz5h61LYk7Pj"
      },
      "source": [
        "# *K-nearest neighbors*(KNN)\n",
        "\n",
        "* Observando a variação da acurácia com o número de k\n",
        "\n",
        "* Validando KNN"
      ]
    },
    {
      "cell_type": "code",
      "metadata": {
        "colab": {
          "base_uri": "https://localhost:8080/",
          "height": 279
        },
        "id": "bxrNIWW5k6Hd",
        "outputId": "0842f6b8-7111-40d2-ba8e-47347cca3049"
      },
      "source": [
        "from sklearn.neighbors import KNeighborsClassifier\n",
        "from sklearn.model_selection import cross_val_score\n",
        "\n",
        "\n",
        "k_range = range(1,26)\n",
        "\n",
        "k_score = []\n",
        "for k in k_range:\n",
        "  knn = KNeighborsClassifier(n_neighbors=k)\n",
        "  scores = cross_val_score(knn, X , Y, cv = 10, scoring='accuracy')\n",
        "  k_score.append(scores.mean())\n",
        "\n",
        "#plotando os gráficos\n",
        "\n",
        "plt.plot(k_range, k_score)\n",
        "plt.xlabel(\"number of K in KNN\")\n",
        "plt.ylabel(\"Cross-validated accuracy in KNN\")\n",
        "plt.tick_params(labelsize=10)"
      ],
      "execution_count": null,
      "outputs": [
        {
          "output_type": "display_data",
          "data": {
            "image/png": "[encoded data removed]",
            "text/plain": [
              "<Figure size 432x288 with 1 Axes>"
            ]
          },
          "metadata": {
            "tags": [],
            "needs_background": "light"
          }
        }
      ]
    },
    {
      "cell_type": "markdown",
      "metadata": {
        "id": "7FaqR0BZBrQC"
      },
      "source": [
        "# **Cross validation with KNN**\n",
        "k = 16 is higher \n"
      ]
    },
    {
      "cell_type": "code",
      "metadata": {
        "colab": {
          "base_uri": "https://localhost:8080/"
        },
        "id": "DFcl7NzP3wMR",
        "outputId": "a3702f84-b242-463d-e085-e96676415b42"
      },
      "source": [
        "#treianndo o sistema para k = 16\n",
        "\n",
        "knn = KNeighborsClassifier(n_neighbors=16)\n",
        "knn.fit(X_train, Y_train)\n",
        "Y_pred = knn.predict(X_test)\n",
        "\n",
        "from sklearn.metrics import accuracy_score\n",
        "from sklearn.metrics import roc_auc_score\n",
        "\n",
        "# classification report for test set\n",
        "print(metrics.classification_report(Y_test, Y_pred, digits=3, zero_division = 1))\n",
        "# Calculate cv score with 'accuracy' scoring and 10 folds\n",
        "accuracy = cross_val_score(knn, X, Y, scoring = 'accuracy',cv=10)\n",
        "print('cross validation score',accuracy.mean())\n",
        "# Calculate cv score with 'roc_auc_ovr' scoring and 10 folds\n",
        "accuracy = cross_val_score(knn, X, Y, scoring = 'roc_auc_ovr',cv=10)\n",
        "print('cross validation score with roc_auc',accuracy.mean())\n",
        "# Calculate roc_auc score with multiclass parameter\n",
        "print('roc_auc_score',roc_auc_score(Y_test,knn.predict_proba(X_test), multi_class='ovr'))\n",
        "\n",
        "\n"
      ],
      "execution_count": null,
      "outputs": [
        {
          "output_type": "stream",
          "text": [
            "              precision    recall  f1-score   support\n",
            "\n",
            "           4      0.000     0.000     0.000        11\n",
            "           5      0.638     0.709     0.672       117\n",
            "           6      0.571     0.623     0.596       122\n",
            "           7      0.538     0.378     0.444        37\n",
            "           8      1.000     0.000     0.000         4\n",
            "\n",
            "    accuracy                          0.595       291\n",
            "   macro avg      0.550     0.342     0.343       291\n",
            "weighted avg      0.578     0.595     0.577       291\n",
            "\n",
            "cross validation score 0.5741568256967406\n",
            "cross validation score with roc_auc 0.6990007091248781\n",
            "roc_auc_score 0.711660677899099\n"
          ],
          "name": "stdout"
        }
      ]
    },
    {
      "cell_type": "markdown",
      "metadata": {
        "id": "SNFtkukmdT00"
      },
      "source": [
        "# **Decision Tree**"
      ]
    },
    {
      "cell_type": "code",
      "metadata": {
        "colab": {
          "base_uri": "https://localhost:8080/"
        },
        "id": "PLWnFuMGcrAl",
        "outputId": "fd696849-a4b5-4748-f4be-32d5b25e125d"
      },
      "source": [
        "from sklearn.tree import DecisionTreeClassifier\n",
        "\n",
        "#treinando e ajustando a árvore de decisão\n",
        "tree = DecisionTreeClassifier(random_state=0)\n",
        "tree.fit(X_train, Y_train)\n",
        "\n",
        "\n",
        "# Avaliando o modelo com conjunto de teste fora da amostra\n",
        "Y_pred = tree.predict(X_test)\n",
        "\n",
        "#Resultados da calssificação no teste\n",
        "print(metrics.classification_report(Y_test, Y_pred.round(), digits=3, zero_division=1))\n",
        "\n",
        "\n",
        "# Calculate cv score with ‘roc_auc_ovr’ scoring and 10 folds\n",
        "accuracy = cross_val_score(tree, X, Y, scoring='roc_auc_ovr', cv=10  )\n",
        "print(\"cross validtion with roc_auc_ovr accuracy\", accuracy.mean())\n",
        "\n",
        "\n",
        "# Calculate roc_auc score with multiclass parameter\n",
        "print(\"roc_auc_score\", roc_auc_score(Y_test, tree.predict_proba(X_test), multi_class = 'ovr'))\n",
        "\n",
        "\n",
        "\n",
        "\n",
        "\n",
        "\n",
        "\n",
        "\n"
      ],
      "execution_count": null,
      "outputs": [
        {
          "output_type": "stream",
          "text": [
            "              precision    recall  f1-score   support\n",
            "\n",
            "           4      0.200     0.091     0.125        11\n",
            "           5      0.699     0.675     0.687       117\n",
            "           6      0.632     0.648     0.640       122\n",
            "           7      0.467     0.568     0.512        37\n",
            "           8      0.333     0.250     0.286         4\n",
            "\n",
            "    accuracy                          0.622       291\n",
            "   macro avg      0.466     0.446     0.450       291\n",
            "weighted avg      0.618     0.622     0.618       291\n",
            "\n",
            "cross validtion with roc_auc_ovr accuracy 0.5843940487030195\n",
            "roc_auc_score 0.6647897124956815\n"
          ],
          "name": "stdout"
        }
      ]
    },
    {
      "cell_type": "markdown",
      "metadata": {
        "id": "gsYvfO-mdifS"
      },
      "source": [
        "# **Random Forest**\n",
        "\n",
        "* Um conjunto de várias árvores de decisão que leva em conta o que maior quantidade dessas árvores indica\n",
        "\n"
      ]
    },
    {
      "cell_type": "code",
      "metadata": {
        "colab": {
          "base_uri": "https://localhost:8080/"
        },
        "id": "PfzdwugxdiAS",
        "outputId": "43cf8dc8-dc07-4a64-d2ce-7f12261fc85d"
      },
      "source": [
        "from sklearn.ensemble import RandomForestClassifier\n",
        "\n",
        "#treinando e ajustando a árvore de decisão\n",
        "forest = RandomForestClassifier(n_estimators=100, random_state = 0)\n",
        "forest.fit(X_train, Y_train)\n",
        "\n",
        "# Avaliando o modelo com conjunto de teste fora da amostra\n",
        "Y_pred = forest.predict(X_test)\n",
        "\n",
        "# Resultados da calssificação no teste\n",
        "print(metrics.classification_report(Y_test, Y_pred, digits=3, ))\n",
        "\n",
        "accuracy = cross_val_score(forest, X, Y,scoring = 'roc_auc_ovr',cv=10)\n",
        "print('cross validation score with roc_auc_ovr scoring', accuracy.mean())\n",
        "\n",
        "print('roc_auc_score', roc_auc_score(Y_test, forest.predict_proba(X_test), multi_class = 'ovr'))\n",
        "\n",
        "\n",
        "\n"
      ],
      "execution_count": null,
      "outputs": [
        {
          "output_type": "stream",
          "text": [
            "/usr/local/lib/python3.6/dist-packages/sklearn/metrics/_classification.py:1272: UndefinedMetricWarning: Precision and F-score are ill-defined and being set to 0.0 in labels with no predicted samples. Use `zero_division` parameter to control this behavior.\n",
            "  _warn_prf(average, modifier, msg_start, len(result))\n"
          ],
          "name": "stderr"
        },
        {
          "output_type": "stream",
          "text": [
            "              precision    recall  f1-score   support\n",
            "\n",
            "           4      0.000     0.000     0.000        11\n",
            "           5      0.711     0.821     0.762       117\n",
            "           6      0.690     0.713     0.702       122\n",
            "           7      0.793     0.622     0.697        37\n",
            "           8      1.000     0.250     0.400         4\n",
            "\n",
            "    accuracy                          0.711       291\n",
            "   macro avg      0.639     0.481     0.512       291\n",
            "weighted avg      0.690     0.711     0.695       291\n",
            "\n",
            "cross validation score with roc_auc_ovr scoring 0.7617443587644102\n",
            "roc_auc_score 0.8332575905203725\n"
          ],
          "name": "stdout"
        }
      ]
    },
    {
      "cell_type": "markdown",
      "metadata": {
        "id": "FSULMN1q86P4"
      },
      "source": [
        "# **SMOTE ALGORITHM**\n",
        "\n",
        "* Pode-se aplicar esse algoritmo para tentar melhorar ainda mais a acurácia \n"
      ]
    }
  ]
}